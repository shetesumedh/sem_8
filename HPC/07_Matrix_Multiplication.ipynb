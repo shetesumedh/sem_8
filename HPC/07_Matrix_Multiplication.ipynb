{
  "cells": [
    {
      "cell_type": "code",
      "execution_count": 1,
      "id": "4549a352",
      "metadata": {
        "id": "4549a352"
      },
      "outputs": [],
      "source": [
        "code = r'''\n",
        "#include <iostream>\n",
        "#include <fstream>\n",
        "#include <vector>\n",
        "#include <cstdlib>\n",
        "#include <ctime>\n",
        "#include <iomanip>\n",
        "#include <cuda_runtime.h>\n",
        "\n",
        "__global__ void multiplyMatrices(int* A, int* B, int* C, int N) {\n",
        "    int row = blockIdx.y * blockDim.y + threadIdx.y;\n",
        "    int col = blockIdx.x * blockDim.x + threadIdx.x;\n",
        "\n",
        "    if (row < N && col < N) {\n",
        "        int sum = 0;\n",
        "        for (int k = 0; k < N; k++) {\n",
        "            sum += A[row * N + k] * B[k * N + col];\n",
        "        }\n",
        "        C[row * N + col] = sum;\n",
        "    }\n",
        "}\n",
        "\n",
        "void initializeMatrix(int* matrix, int N) {\n",
        "    for (int i = 0; i < N * N; i++\n",
        "\n",
        "\n",
        "\n",
        "\n",
        "    ) {\n",
        "        matrix[i] = rand() % 10;\n",
        "    }\n",
        "}\n",
        "\n",
        "void printMatrix(int* matrix, int N) {\n",
        "    for (int row = 0; row < N; row++) {\n",
        "        for (int col = 0; col < N; col++) {\n",
        "            printf(\"%d \", matrix[row * N + col]);\n",
        "        }\n",
        "        printf(\"\\n\");\n",
        "    }\n",
        "    printf(\"\\n\");\n",
        "}\n",
        "\n",
        "int main() {\n",
        "    int N;\n",
        "    printf(\"Enter size of square matrix (N x N): \");\n",
        "    scanf(\"%d\", &N);\n",
        "\n",
        "    int *A, *B, *C;\n",
        "    size_t bytes = N * N * sizeof(int);\n",
        "\n",
        "    A = (int*)malloc(bytes);\n",
        "    B = (int*)malloc(bytes);\n",
        "    C = (int*)malloc(bytes);\n",
        "\n",
        "    initializeMatrix(A, N);\n",
        "    initializeMatrix(B, N);\n",
        "\n",
        "    printf(\"Matrix A:\\n\");\n",
        "    printMatrix(A, N);\n",
        "\n",
        "    printf(\"Matrix B:\\n\");\n",
        "    printMatrix(B, N);\n",
        "\n",
        "    int *d_A, *d_B, *d_C;\n",
        "    cudaMalloc(&d_A, bytes);\n",
        "    cudaMalloc(&d_B, bytes);\n",
        "    cudaMalloc(&d_C, bytes);\n",
        "\n",
        "    cudaMemcpy(d_A, A, bytes, cudaMemcpyHostToDevice);\n",
        "    cudaMemcpy(d_B, B, bytes, cudaMemcpyHostToDevice);\n",
        "\n",
        "    dim3 threadsPerBlock(16, 16);\n",
        "    dim3 blocksPerGrid((N + 15) / 16, (N + 15) / 16);\n",
        "\n",
        "    multiplyMatrices<<<blocksPerGrid, threadsPerBlock>>>(d_A, d_B, d_C, N);\n",
        "\n",
        "    cudaMemcpy(C, d_C, bytes, cudaMemcpyDeviceToHost);\n",
        "\n",
        "    printf(\"Resultant Matrix (Multiplication):\\n\");\n",
        "    printMatrix(C, N);\n",
        "\n",
        "    free(A);\n",
        "    free(B);\n",
        "    free(C);\n",
        "\n",
        "    cudaFree(d_A);\n",
        "    cudaFree(d_B);\n",
        "    cudaFree(d_C);\n",
        "\n",
        "    return 0;\n",
        "}\n",
        "\n",
        "'''\n",
        "with open(\"matrix_multiplication.cu\", \"w\") as f:\n",
        "    f.write(code)"
      ]
    },
    {
      "cell_type": "code",
      "execution_count": 3,
      "id": "c207a400",
      "metadata": {
        "colab": {
          "base_uri": "https://localhost:8080/"
        },
        "id": "c207a400",
        "outputId": "7a1e0735-a6eb-4cb9-ac19-9c69fb8c414d"
      },
      "outputs": [
        {
          "output_type": "stream",
          "name": "stdout",
          "text": [
            "Enter size of square matrix (N x N): Matrix A:\n",
            "3 6 7 5 \n",
            "3 5 6 2 \n",
            "9 1 2 7 \n",
            "0 9 3 6 \n",
            "\n",
            "Matrix B:\n",
            "0 6 2 6 \n",
            "1 8 7 9 \n",
            "2 0 2 3 \n",
            "7 5 9 2 \n",
            "\n",
            "Resultant Matrix (Multiplication):\n",
            "55 91 107 103 \n",
            "31 68 71 85 \n",
            "54 97 92 83 \n",
            "57 102 123 102 \n",
            "\n"
          ]
        }
      ],
      "source": [
        "!nvcc -arch=sm_75 matrix_multiplication.cu -o matrix_multiplication\n",
        "#!./matrix_multiplication\n",
        "!echo 4 | ./matrix_multiplication"
      ]
    },
    {
      "cell_type": "code",
      "source": [],
      "metadata": {
        "id": "gGXcKBW3HNx-"
      },
      "id": "gGXcKBW3HNx-",
      "execution_count": 2,
      "outputs": []
    }
  ],
  "metadata": {
    "language_info": {
      "name": "python"
    },
    "colab": {
      "provenance": [],
      "gpuType": "T4"
    },
    "kernelspec": {
      "name": "python3",
      "display_name": "Python 3"
    },
    "accelerator": "GPU"
  },
  "nbformat": 4,
  "nbformat_minor": 5
}